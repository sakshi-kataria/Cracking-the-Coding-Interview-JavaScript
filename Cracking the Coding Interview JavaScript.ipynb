{
 "cells": [
  {
   "cell_type": "markdown",
   "metadata": {},
   "source": [
    "# Array"
   ]
  },
  {
   "cell_type": "markdown",
   "metadata": {},
   "source": [
    "**Is Unique: Implement an algorithm to determine if a string has all unique characters. What if you cannot use additional data structures? **"
   ]
  },
  {
   "cell_type": "code",
   "execution_count": 39,
   "metadata": {
    "collapsed": false
   },
   "outputs": [
    {
     "name": "stdout",
     "output_type": "stream",
     "text": [
      "str[i].charCodeAt(0) 97\n",
      "str[i].charCodeAt(0) 98\n",
      "str[i].charCodeAt(0) 99\n",
      "str[i].charCodeAt(0) 100\n",
      "str[i].charCodeAt(0) 32\n",
      "str[i].charCodeAt(0) 114\n",
      "str[i].charCodeAt(0) 114\n"
     ]
    },
    {
     "data": {
      "text/plain": [
       "false"
      ]
     },
     "execution_count": 39,
     "metadata": {},
     "output_type": "execute_result"
    }
   ],
   "source": [
    "  function isUnique(str) {\n",
    "      var char_set = new Array(256).fill(false);\n",
    "      for (var i = 0; i < str.length; i++) {\n",
    "          console.log('str[i].charCodeAt(0)',str[i].charCodeAt(0));\n",
    "        if (char_set[str[i].charCodeAt(0)]) {\n",
    "          return false;\n",
    "        }\n",
    "        char_set[str[i].charCodeAt(0)] = true;\n",
    "      }\n",
    "       \n",
    "      return true;\n",
    "   }\n",
    "isUnique('abcd rrrrrr');"
   ]
  },
  {
   "cell_type": "markdown",
   "metadata": {},
   "source": [
    "using Object it will become faster with less memory consumed"
   ]
  },
  {
   "cell_type": "code",
   "execution_count": 21,
   "metadata": {
    "collapsed": false
   },
   "outputs": [
    {
     "data": {
      "text/plain": [
       "true"
      ]
     },
     "execution_count": 21,
     "metadata": {},
     "output_type": "execute_result"
    }
   ],
   "source": [
    "  function isUnique(str) {\n",
    "      var char_set = {};\n",
    "      for (var i = 0; i < str.length; i++) {\n",
    "        if (char_set[str[i]]) {\n",
    "          return false;\n",
    "        }\n",
    "        char_set[str[i]] = true;\n",
    "      }\n",
    "       \n",
    "      return true;\n",
    "   }\n",
    "isUnique('abcd r');"
   ]
  },
  {
   "cell_type": "markdown",
   "metadata": {},
   "source": [
    " ** Implement a function which reverse a null terminated string**\n",
    " \n",
    "String in javascript are **immutable** so space complexity will be O(n).  \n",
    "so to have space complexity of O(1), data must be stored in character array.  "
   ]
  },
  {
   "cell_type": "markdown",
   "metadata": {},
   "source": [
    "**Given an image represented by an NxN matrix, where each pixel in the image is 4 bytes, write a method to rotate the image by 90 degrees   Can you do this in place**"
   ]
  },
  {
   "cell_type": "code",
   "execution_count": 6,
   "metadata": {
    "collapsed": false
   },
   "outputs": [
    {
     "name": "stdout",
     "output_type": "stream",
     "text": [
      "rotate(matrix) [ [ 21, 16, 11, 6, 1 ],\n",
      "  [ 22, 7, 12, 7, 2 ],\n",
      "  [ 23, 18, 13, 8, 3 ],\n",
      "  [ 24, 19, 14, 9, 4 ],\n",
      "  [ 25, 20, 15, 10, 5 ] ]\n"
     ]
    },
    {
     "data": {
      "text/plain": [
       "undefined"
      ]
     },
     "execution_count": 6,
     "metadata": {},
     "output_type": "execute_result"
    }
   ],
   "source": [
    "var a=[[1,2,3,4,5],[6,7,8,9,10],[11,12,13,14,15],[16,7,18,19,20],[21,22,23,24,25]]\n",
    "function rotate(matrix) {\n",
    "    var n = matrix.length-1;\n",
    "    for (var i = 0; i <n; i++) {\n",
    "        for (var j = i; j<n-i; j++) {\n",
    "            var temp = matrix[n-j][i]; //left\n",
    "            matrix[n-j][i] = matrix[n-i][n-j]; //bottom\n",
    "            matrix[n-i][n-j]=matrix[j][n-i]; //right\n",
    "            matrix[j][n-i]=matrix[i][j]; //top\n",
    "            matrix[i][j] = temp; //\n",
    "        }\n",
    "    }\n",
    "    return matrix;\n",
    "}\n",
    "console.log('rotate(matrix)',rotate(a));"
   ]
  },
  {
   "cell_type": "markdown",
   "metadata": {},
   "source": [
    "**Given an image represented by an NxN matrix, where each pixel in the image is 4 bytes, write a method to rotate the image by 180 degrees   Can you do this in place?**"
   ]
  },
  {
   "cell_type": "code",
   "execution_count": 23,
   "metadata": {
    "collapsed": false
   },
   "outputs": [
    {
     "name": "stdout",
     "output_type": "stream",
     "text": [
      "rotate(matrix) [ [ 13, 14, 15, 4 ],\n",
      "  [ 9, 10, 11, 8 ],\n",
      "  [ 5, 6, 7, 12 ],\n",
      "  [ 1, 2, 3, 16 ] ]\n"
     ]
    },
    {
     "data": {
      "text/plain": [
       "undefined"
      ]
     },
     "execution_count": 23,
     "metadata": {},
     "output_type": "execute_result"
    }
   ],
   "source": [
    "var a=[[1,2,3,4],[5,6,7,8],[9,10,11,12],[13,14,15,16]]\n",
    "function rotate(matrix) {\n",
    "    var n = matrix.length-1;\n",
    "    for (var i = 0; i <(n/2); i++) {\n",
    "        for (var j = 0; j< n; j++) {\n",
    "            var temp = matrix[i][j]; \n",
    "            matrix[i][j] = matrix[n-i][j]; \n",
    "            matrix[n-i][j] = temp; //\n",
    "        }\n",
    "    }\n",
    "    return matrix;\n",
    "}\n",
    "console.log('rotate(matrix)',rotate(a));"
   ]
  },
  {
   "cell_type": "markdown",
   "metadata": {},
   "source": [
    "Time Complexity O(n^2);\n",
    "Space complexity O(1);"
   ]
  },
  {
   "cell_type": "markdown",
   "metadata": {},
   "source": [
    "** Write a method to decide if two strings are anagrams or not  **\n"
   ]
  },
  {
   "cell_type": "code",
   "execution_count": 22,
   "metadata": {
    "collapsed": false
   },
   "outputs": [
    {
     "name": "stdout",
     "output_type": "stream",
     "text": [
      "Permautation\n"
     ]
    },
    {
     "data": {
      "text/plain": [
       "undefined"
      ]
     },
     "execution_count": 22,
     "metadata": {},
     "output_type": "execute_result"
    }
   ],
   "source": [
    "var str1=\"abcd\", str2=\"bcda\";\n",
    "isPermautation(str1,str2)\n",
    "function isPermautation(str1,str2){\n",
    "    if(str1 && str2){\n",
    "        if(str1.trim().length!==str2.trim().length){\n",
    "             console.log(\"Not Permautation\");\n",
    "            return;\n",
    "        }\n",
    "    }else{\n",
    "        console.log(\"please define both strings\");\n",
    "        return;\n",
    "    }\n",
    "    var dict={}\n",
    "    for(i=0;i<str1.length;i++){\n",
    "        if(dict[str1[i]]){\n",
    "            dict[str1[i]]=dict[str1[i]]+1;\n",
    "        }else{\n",
    "            dict[str1[i]]=1;\n",
    "        }\n",
    "    }\n",
    "    for(i=0;i<str2.length;i++){\n",
    "        if(dict[str2[i]]){\n",
    "            dict[str2[i]]=dict[str2[i]]-1;\n",
    "        }else{\n",
    "            console.log(\"Not Permautation\");\n",
    "            return;\n",
    "        }\n",
    "    }\n",
    "  \n",
    "    if(dict.length>0){\n",
    "         console.log(\"Not Permautation\");\n",
    "    }else{\n",
    "         console.log(\"Permautation\");\n",
    "    }\n",
    "    \n",
    "}"
   ]
  },
  {
   "cell_type": "markdown",
   "metadata": {},
   "source": [
    "Time Complexity= O(n);\n",
    "Space Complexity=O(n);"
   ]
  },
  {
   "cell_type": "markdown",
   "metadata": {},
   "source": [
    "**Write an algorithm such that if an element in an MxN matrix is 0, its entire row and column is set to 0 **"
   ]
  },
  {
   "cell_type": "code",
   "execution_count": 2,
   "metadata": {
    "collapsed": false
   },
   "outputs": [
    {
     "name": "stdout",
     "output_type": "stream",
     "text": [
      "[ [ 0, 0, 0, 0 ],\n",
      "  [ 5, 0, 0, 8 ],\n",
      "  [ 0, 0, 0, 0 ],\n",
      "  [ 13, 0, 0, 16 ] ]\n"
     ]
    },
    {
     "data": {
      "text/plain": [
       "undefined"
      ]
     },
     "execution_count": 2,
     "metadata": {},
     "output_type": "execute_result"
    }
   ],
   "source": [
    "function setZeros(a){\n",
    "    var row={},column={};\n",
    "    for(i=0;i<a.length;i++){\n",
    "        for(j=0;j<a[0].length;j++){\n",
    "            if(a[i][j]===0){\n",
    "                row[i]=true;\n",
    "                column[j]=true;\n",
    "            }\n",
    "        }\n",
    "    }\n",
    "     for(i=0;i<a.length;i++){\n",
    "         for(j=0;j<a[0].length;j++){\n",
    "            if(row[i] || column[j]){\n",
    "               a[i][j]=0;\n",
    "            }\n",
    "        }\n",
    "        \n",
    "     }\n",
    "    return a;\n",
    "}\n",
    "\n",
    "var a=[[1,2,0,4],[5,6,7,8],[9,0,11,12],[13,14,15,16]];\n",
    "console.log(setZeros(a));"
   ]
  },
  {
   "cell_type": "markdown",
   "metadata": {},
   "source": [
    "**Assume you have a method isSubstring which checks if one word is a substring of another   Given two strings, s1 and s2, write code to check if s2 is a rotation of s1 using only one call to isSubstring (i e , “waterbottle” is a rotation of “erbottlewat”)**"
   ]
  },
  {
   "cell_type": "code",
   "execution_count": 11,
   "metadata": {
    "collapsed": false
   },
   "outputs": [
    {
     "name": "stdout",
     "output_type": "stream",
     "text": [
      "Correct\n"
     ]
    },
    {
     "data": {
      "text/plain": [
       "undefined"
      ]
     },
     "execution_count": 11,
     "metadata": {},
     "output_type": "execute_result"
    }
   ],
   "source": [
    "function isRotation(str1,str2){\n",
    "    if(str1.length===str2.length && str1.length>0){\n",
    "        let str=str1+str1;\n",
    "        if(str.indexOf(str2)>0){\n",
    "            console.log('Correct');\n",
    "            return;\n",
    "        }\n",
    "        console.log('Not Correct');\n",
    "        return;\n",
    "    }\n",
    "    console.log('Not Correct');\n",
    "    return;\n",
    "}\n",
    "isRotation('apple','eappl')"
   ]
  },
  {
   "cell_type": "markdown",
   "metadata": {},
   "source": [
    "** Write a method to replace all spaces in a string with ‘%20’ **"
   ]
  },
  {
   "cell_type": "code",
   "execution_count": 1,
   "metadata": {
    "collapsed": false
   },
   "outputs": [
    {
     "name": "stdout",
     "output_type": "stream",
     "text": [
      "2222\n",
      "len 1\n",
      "[ 'a', 'b', 'c', 'd', '%', '2', '0', 'e', 'f', 'g', 'h' ]\n"
     ]
    },
    {
     "data": {
      "text/plain": [
       "undefined"
      ]
     },
     "execution_count": 1,
     "metadata": {},
     "output_type": "execute_result"
    }
   ],
   "source": [
    "function ReplaceFunc(str,strlen){\n",
    "    var count=0;\n",
    "    for(let i=0;i<strlen-1;i++){\n",
    "        if(str[i]===\" \"){\n",
    "            count=count+1;\n",
    "        }\n",
    "    }\n",
    "    var len=strlen;\n",
    "    len=len +(2*count);\n",
    "    \n",
    "      for(let i=strlen-1;i>0;i--){\n",
    "        if(str[i]===\" \"){\n",
    "            console.log('2222')\n",
    "            str[len-3]=\"%\";\n",
    "            str[len-2]=\"2\";\n",
    "            str[len-1]=\"0\";\n",
    "            len=len-3;\n",
    "       }else{\n",
    "            str[len-1]=str[i];\n",
    "           len=len-1;\n",
    "       }\n",
    "    }\n",
    "    console.log('len',len)\n",
    "    return str;\n",
    "}\n",
    "str=[\"a\",\"b\",\"c\",\"d\",\" \",\"e\",\"f\",\"g\",\"h\"]\n",
    "console.log(ReplaceFunc(str,9));"
   ]
  },
  {
   "cell_type": "markdown",
   "metadata": {},
   "source": [
    "**Reverse String in Javascript**"
   ]
  },
  {
   "cell_type": "code",
   "execution_count": 10,
   "metadata": {
    "collapsed": false
   },
   "outputs": [
    {
     "name": "stdout",
     "output_type": "stream",
     "text": [
      "str.length: 5\n",
      "[ 'e', 'd', 'c', 'b', 'a' ]\n"
     ]
    },
    {
     "data": {
      "text/plain": [
       "undefined"
      ]
     },
     "execution_count": 10,
     "metadata": {},
     "output_type": "execute_result"
    }
   ],
   "source": [
    "function reverseString(str){\n",
    "    if(str){\n",
    "        console.log('str.length:',str.length);\n",
    "        for(i=0;i<(str.length-1)/2;i++){\n",
    "            var n=str.length-1;\n",
    "            var tmp=str[i];\n",
    "            str[i]=str[n-i];\n",
    "            str[n-i]=tmp;\n",
    "        }\n",
    "    }\n",
    "    return str;\n",
    "}\n",
    "\n",
    "// str is charactor array of string\n",
    "\n",
    "str=['a','b','c','d','e'];\n",
    "\n",
    "console.log(reverseString(str));"
   ]
  },
  {
   "cell_type": "markdown",
   "metadata": {},
   "source": [
    "** Compressed String from aaaabbccaa to a4b2c2a2 **"
   ]
  },
  {
   "cell_type": "code",
   "execution_count": 37,
   "metadata": {
    "collapsed": false
   },
   "outputs": [
    {
     "name": "stdout",
     "output_type": "stream",
     "text": [
      "a4b2c2a2\n"
     ]
    },
    {
     "data": {
      "text/plain": [
       "undefined"
      ]
     },
     "execution_count": 37,
     "metadata": {},
     "output_type": "execute_result"
    }
   ],
   "source": [
    "function compressedString(str){\n",
    "    var strComp=str[0]\n",
    "    var str1='';\n",
    "    var count=1;\n",
    "    for(i=1;i<str.length;i++){\n",
    "        if(strComp===str[i]){\n",
    "            count=count+1;\n",
    "        }\n",
    "        else{\n",
    "            str1=str1+strComp+count;\n",
    "            count=1;\n",
    "            strComp=str[i];\n",
    "        }\n",
    "    }\n",
    "    return str1 + strComp + count;\n",
    "}\n",
    "console.log(compressedString(\"aaaabbccaa\"))"
   ]
  },
  {
   "cell_type": "markdown",
   "metadata": {},
   "source": [
    "**Design an algorithm and write code to remove the duplicate characters in a string without using any additional buffer  NOTE: One or two additional variables are fine   An extra copy of the array is not FOLLOW UP Write the test cases for this method **"
   ]
  },
  {
   "cell_type": "code",
   "execution_count": 50,
   "metadata": {
    "collapsed": false
   },
   "outputs": [
    {
     "name": "stdout",
     "output_type": "stream",
     "text": [
      "str[i].charCodeAt(0) 97\n",
      "str[i].charCodeAt(0) 98\n",
      "str[i].charCodeAt(0) 99\n",
      "str[i].charCodeAt(0) 100\n",
      "str[i].charCodeAt(0) 32\n",
      "str[i].charCodeAt(0) 114\n",
      "str[i].charCodeAt(0) 114\n",
      "str[i].charCodeAt(0) 114\n",
      "str[i].charCodeAt(0) 114\n",
      "undefined\n"
     ]
    },
    {
     "data": {
      "text/plain": [
       "undefined"
      ]
     },
     "execution_count": 50,
     "metadata": {},
     "output_type": "execute_result"
    }
   ],
   "source": [
    "  function duplicateArray(str) {\n",
    "      var char_set = new Array(256).fill(false);\n",
    "      var count=0;\n",
    "      for (var i = 0; i < str.length; i++) {\n",
    "          console.log('str[i].charCodeAt(0)',str[i].charCodeAt(0));\n",
    "        if (char_set[str[i].charCodeAt(0)]) {\n",
    "            delete str[i];\n",
    "            count=count+1;\n",
    "          }\n",
    "        if(count>0){\n",
    "            str[i-count]=str[i]\n",
    "        }\n",
    "          char_set[str[i].charCodeAt(0)] = true;\n",
    "          if(count+i===str.length){\n",
    "              return}\n",
    "      }   \n",
    "      return str;\n",
    "      }\n",
    "       \n",
    "console.log(duplicateArray('abcd rrrrrr'));"
   ]
  },
  {
   "cell_type": "markdown",
   "metadata": {
    "collapsed": true
   },
   "source": [
    "# Linklist"
   ]
  },
  {
   "cell_type": "markdown",
   "metadata": {},
   "source": [
    "**Write code to remove duplicates from an unsorted linked list FOLLOW UP How would you solve this problem if a temporary buffer is not allowed? **\n",
    "** Without Buffer **"
   ]
  },
  {
   "cell_type": "code",
   "execution_count": 28,
   "metadata": {
    "collapsed": false
   },
   "outputs": [
    {
     "data": {
      "text/plain": [
       "{ data: 'a',\n",
       "  next: { data: 'b', next: { data: 'c', next: null } } }"
      ]
     },
     "execution_count": 28,
     "metadata": {},
     "output_type": "execute_result"
    }
   ],
   "source": [
    "function removeDuplicateElement(node){\n",
    "    var head=node;\n",
    "    current=head;\n",
    "\n",
    "    while(current!==null){\n",
    "        var previouse=head;\n",
    "        var current=head.next;\n",
    "        while(current!==null){\n",
    "            \n",
    "            if(current.data===head.data){\n",
    "                var tmp=current;\n",
    "//                 console.log('tmp',tmp);\n",
    "                previous.next=tmp.next;\n",
    "                current=tmp.next;\n",
    "                delete tmp;\n",
    "            }else{\n",
    "                previous=current;\n",
    "                current=current.next;\n",
    "            }\n",
    "        }\n",
    "    }\n",
    "    return head;\n",
    "    \n",
    "}\n",
    "\n",
    "var linklist={data:'a',next:{data:'b',next:{data:'a',next:{data:'c',next:null}}}}\n",
    "removeDuplicateElement(linklist)"
   ]
  },
  {
   "cell_type": "markdown",
   "metadata": {},
   "source": [
    "Space Complexity O(1)\n",
    "\n",
    "Time Complexity O(n^2)\n",
    "\n",
    "** With Buffer **"
   ]
  },
  {
   "cell_type": "code",
   "execution_count": 31,
   "metadata": {
    "collapsed": false
   },
   "outputs": [
    {
     "data": {
      "text/plain": [
       "{ data: 'a',\n",
       "  next: { data: 'b', next: { data: 'c', next: null } } }"
      ]
     },
     "execution_count": 31,
     "metadata": {},
     "output_type": "execute_result"
    }
   ],
   "source": [
    "function removeDuplicateElement(node){\n",
    "    var head=node;\n",
    "    var current=head;\n",
    "    var previous=current;\n",
    "    var obj={}\n",
    "    while(current!=null){\n",
    "        if(obj[current.data]){\n",
    "            var tmp=current;\n",
    "            previous.next=current.next\n",
    "            current=tmp.next;\n",
    "            delete tmp;\n",
    "        }else{\n",
    "            obj[current.data]=true\n",
    "            previous=current;\n",
    "           current=current.next; \n",
    "        }\n",
    "    }\n",
    "    return head;\n",
    "}\n",
    "var linklist={data:'a',next:{data:'b',next:{data:'a',next:{data:'c',next:null}}}}\n",
    "removeDuplicateElement(linklist)"
   ]
  },
  {
   "cell_type": "markdown",
   "metadata": {},
   "source": [
    "** Implement an algorithm to find the nth to last element of a singly linked list **\n",
    "\n",
    "p1 points to the nth node from the last as the distance between the two is n "
   ]
  },
  {
   "cell_type": "code",
   "execution_count": 75,
   "metadata": {
    "collapsed": false
   },
   "outputs": [
    {
     "name": "stdout",
     "output_type": "stream",
     "text": [
      "{ data: 'c', next: { data: 'e', next: null } }\n"
     ]
    },
    {
     "data": {
      "text/plain": [
       "undefined"
      ]
     },
     "execution_count": 75,
     "metadata": {},
     "output_type": "execute_result"
    }
   ],
   "source": [
    "function nthToLast(head, n) {\n",
    "    p1=head;\n",
    "    p2=head;\n",
    "    if(head===null || n<1){\n",
    "        return false;\n",
    "    }\n",
    "    else{\n",
    "        \n",
    "        i=0;\n",
    "        while(i!==n && p2!==null){\n",
    "            p2=p2.next;\n",
    "            i=i+1;\n",
    "        }\n",
    "        if(p2===null){\n",
    "            return false;\n",
    "        }\n",
    "        while(p2!==null){\n",
    "            p1=p1.next;\n",
    "            p2=p2.next;\n",
    "        }\n",
    "    }\n",
    "    return p1;\n",
    "}\n",
    "var linklist={data:'a',next:{data:'b',next:{data:'a',next:{data:'c',next:{data:'e',next:null}}}}}\n",
    "console.log(nthToLast(linklist,2))"
   ]
  },
  {
   "cell_type": "markdown",
   "metadata": {},
   "source": [
    "**Implement an algorithm to delete a node in the middle of a single linked list, given only access to that node EXAMPLE Input: the node ‘c’ from the linked list a->b->c->d->e Result: nothing is returned, but the new linked list looks like a->b->d->e **"
   ]
  },
  {
   "cell_type": "code",
   "execution_count": 77,
   "metadata": {
    "collapsed": false
   },
   "outputs": [
    {
     "name": "stdout",
     "output_type": "stream",
     "text": [
      "{ data: 'a',\n",
      "  next: { data: 'b', next: { data: 'c', next: [Object] } } }\n"
     ]
    },
    {
     "data": {
      "text/plain": [
       "undefined"
      ]
     },
     "execution_count": 77,
     "metadata": {},
     "output_type": "execute_result"
    }
   ],
   "source": [
    "function deleteMiddleElement(node){\n",
    "    var head=node;\n",
    "    var fastPointer=head;\n",
    "    var slowPointer=head;\n",
    "    while(fastPointer!==null && fastPointer.next!==null && fastPointer.next.next!==null ){\n",
    "        slowPointer=slowPointer.next;\n",
    "        fastPointer=fastPointer.next.next;\n",
    "    }\n",
    "    var tmp=slowPointer.next;\n",
    "    slowPointer.data=tmp.data;\n",
    "    slowPointer.next=tmp.next;\n",
    "    delete tmp;\n",
    "    return head;\n",
    "}\n",
    "\n",
    "var linklist={data:'a',next:{data:'b',next:{data:'a',next:{data:'c',next:{data:'e',next:null}}}}}\n",
    "console.log(deleteMiddleElement(linklist))"
   ]
  },
  {
   "cell_type": "markdown",
   "metadata": {},
   "source": [
    "** Write code to partition a linklist around a value x, such that all nodes less than x come before all nodes greater than or equa to x **\n",
    "\n",
    "** 1st Approach **"
   ]
  },
  {
   "cell_type": "code",
   "execution_count": 112,
   "metadata": {
    "collapsed": false
   },
   "outputs": [
    {
     "name": "stdout",
     "output_type": "stream",
     "text": [
      "{ data: '2', next: null }\n",
      "{ data: '2',\n",
      "  next: { data: '9', next: { data: '7', next: [Circular] } } }\n"
     ]
    },
    {
     "data": {
      "text/plain": [
       "undefined"
      ]
     },
     "execution_count": 112,
     "metadata": {},
     "output_type": "execute_result"
    }
   ],
   "source": [
    "function partition(node,x){\n",
    "    var beforeStart=null;\n",
    "    var beforeEnd=null;\n",
    "    var afterStart=null;\n",
    "    var afterEnd=null;\n",
    "    while(node !==null){\n",
    "        var next=node.next;\n",
    "        if(node.data<x){\n",
    "            if(beforeStart===null){\n",
    "                beforeStart=node;\n",
    "                beforeEnd=beforeStart;\n",
    "            }else{\n",
    "                beforeEnd.next=node;\n",
    "                beforeEnd=node;\n",
    "            }\n",
    "        }else{\n",
    "            if(afterStart===null){\n",
    "                afterStart=node;\n",
    "                afterEnd=afterStart;\n",
    "            }else{\n",
    "                afterEnd.next=node;\n",
    "                afterEnd=node;\n",
    "            }\n",
    "        }\n",
    "        node=next;\n",
    "    }\n",
    "    if(beforeStart===null){\n",
    "        return afterStart;\n",
    "    }\n",
    "    console.log(beforeStart);\n",
    "    beforeEnd.next=afterStart;\n",
    "    return beforeStart;\n",
    "}\n",
    "var linklist={data:'9',next:{data:'7',next:{data:'2',next:null}}}\n",
    "console.log(partition(linklist,3))"
   ]
  },
  {
   "cell_type": "markdown",
   "metadata": {},
   "source": [
    "## 2nd Approach"
   ]
  },
  {
   "cell_type": "code",
   "execution_count": 113,
   "metadata": {
    "collapsed": false,
    "scrolled": true
   },
   "outputs": [
    {
     "name": "stdout",
     "output_type": "stream",
     "text": [
      "tail { data: '9', next: [Circular] }\n",
      "tail { data: '7', next: { data: '2', next: null } }\n",
      "head { data: '2',\n",
      "  next: { data: '9', next: { data: '7', next: [Circular] } } }\n",
      "{ data: '2',\n",
      "  next: { data: '9', next: { data: '7', next: null } } }\n"
     ]
    },
    {
     "data": {
      "text/plain": [
       "undefined"
      ]
     },
     "execution_count": 113,
     "metadata": {},
     "output_type": "execute_result"
    }
   ],
   "source": [
    "function partition(node,x){\n",
    "    var head=node;\n",
    "    var tail=node;\n",
    "    while(node!==null){\n",
    "        var next=node.next;\n",
    "        if(node.data<x){\n",
    "            node.next=head;\n",
    "            head=node;\n",
    "             console.log('head',head)\n",
    "\n",
    "        }else{\n",
    "            tail.next=node;\n",
    "            tail=node;\n",
    "             console.log('tail',tail)\n",
    "        }\n",
    "        node=next;\n",
    "    }\n",
    "    tail.next=null;\n",
    "    return head;\n",
    "}\n",
    "\n",
    "var linklist={data:'9',next:{data:'7',next:{data:'2',next:null}}}\n",
    "console.log(partition(linklist,3))"
   ]
  },
  {
   "cell_type": "markdown",
   "metadata": {},
   "source": [
    "**You have two numbers represented by a linked list, where each node contains a single digit   The digits are stored in reverse order, such that the 1’s digit is at the head of the list   Write a function that adds the two numbers and returns the sum as a linked list EXAMPLE Input: (3 -> 1 -> 5), (5 -> 9 -> 2) Output: 8 -> 0 -> 8 **"
   ]
  },
  {
   "cell_type": "code",
   "execution_count": 19,
   "metadata": {
    "collapsed": false
   },
   "outputs": [
    {
     "name": "stdout",
     "output_type": "stream",
     "text": [
      "node {\n",
      "  data: 1,\n",
      "  next: node { data: 2, next: node { data: 0, next: [Object] } } }\n"
     ]
    },
    {
     "data": {
      "text/plain": [
       "undefined"
      ]
     },
     "execution_count": 19,
     "metadata": {},
     "output_type": "execute_result"
    }
   ],
   "source": [
    "var node=function(data,next){\n",
    "    this.data=data;\n",
    "    this.next=next;\n",
    "}\n",
    "\n",
    "function addLists(L1,L2,carry){\n",
    "    var result,list;\n",
    "    if (l1 === null && l2 === null) { \n",
    "        return result;   \n",
    "    }\n",
    "    var value=carry;\n",
    "    \n",
    "    while( l1 || l2){\n",
    "         if(value>=10)\n",
    "            carry=1\n",
    "        else\n",
    "            carry=0\n",
    "//         console.log('carry',carry)\n",
    "        value=carry;\n",
    "        if(l1 !=null){\n",
    "            value=value+l1.data;\n",
    "            l1=l1.next;\n",
    "        }\n",
    "        if(l2 !=null){\n",
    "            value=value+l2.data;\n",
    "            l2=l2.next;\n",
    "        }\n",
    "//         console.log('value',value);\n",
    "        if(!result){\n",
    "            result=new node(value%10,null);\n",
    "            //console.log(result)\n",
    "        }\n",
    "        else{\n",
    "            list=new node(value%10,null);\n",
    "            //result.next=list;\n",
    "            list.next=result;\n",
    "            result=list;\n",
    "        }  \n",
    "//         console.log('result',result)\n",
    "    }\n",
    "     if(value>=10){\n",
    "          list=new node(1,null);\n",
    "         list.next=result;\n",
    "         result=list;\n",
    "     }\n",
    "        //addLists(L1.next,L2.next,carry);\n",
    "        return result;\n",
    "}\n",
    "\n",
    "\n",
    "var l1={data:9,next:{data:7,next:{data:2,next:null}}}\n",
    "var l2={data:1,next:{data:2,next:{data:9,next:null}}}\n",
    "console.log(addLists(l1,l2,0))"
   ]
  },
  {
   "cell_type": "markdown",
   "metadata": {},
   "source": [
    "** Given a circular linked list, implement an algorithm which returns node at the beginning of the loop DEFINITION Circular linked list: A (corrupt) linked list in which a node’s next pointer points to an earlier node, so as to make a loop in the linked list EXAMPLE Input: A -> B -> C -> D -> E -> C [the same C as earlier] Output: C **"
   ]
  },
  {
   "cell_type": "code",
   "execution_count": 1,
   "metadata": {
    "collapsed": false
   },
   "outputs": [
    {
     "data": {
      "text/plain": [
       "undefined"
      ]
     },
     "execution_count": 1,
     "metadata": {},
     "output_type": "execute_result"
    }
   ],
   "source": [
    "function findBeginningNode(node){\n",
    "    var slowPointer=node;\n",
    "    var fastPointer=node;\n",
    "    while(node!==null && fastPointer.next!=null && fastPointer.next.next!=null){\n",
    "        slowPointer=slowPointer.next;\n",
    "        fastPointer=fastPointer.next.next;\n",
    "        if(slowPointer.data===fastPointer.data){\n",
    "            \n",
    "         break;   \n",
    "        }\n",
    "    }\n",
    "  console.log(fastPointer.next)\n",
    "//   console.log(fastPointer)\n",
    "    if(fastPointer===null || fastPointer.next===null){\n",
    "        console.log('No circular linklist')\n",
    "    }\n",
    "    slowPointer=node;  \n",
    "    while(fastPointer!==slowPointer){\n",
    "        //console.log(slowPointer)\n",
    "        slowPointer=slowPointer.next;\n",
    "        fastPointer=fastPointer.next\n",
    "        //console.log(fastPointer)\n",
    "    }\n",
    "    return fastPointer;\n",
    "}\n",
    "\n",
    "// var linklist={data:'a',next:{data:'b',next:{data:'c',next:{data:'d',next:{data:'e',next:null}}}}}\n",
    "// console.log(findBeginningNode(linklist))"
   ]
  }
 ],
 "metadata": {
  "kernelspec": {
   "display_name": "Javascript (Node.js)",
   "language": "javascript",
   "name": "javascript"
  },
  "language_info": {
   "file_extension": ".js",
   "mimetype": "application/javascript",
   "name": "javascript",
   "version": "6.9.4"
  }
 },
 "nbformat": 4,
 "nbformat_minor": 2
}
